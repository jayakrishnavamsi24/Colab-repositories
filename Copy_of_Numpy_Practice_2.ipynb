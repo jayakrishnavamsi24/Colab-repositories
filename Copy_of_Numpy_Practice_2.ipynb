{
  "nbformat": 4,
  "nbformat_minor": 0,
  "metadata": {
    "colab": {
      "provenance": [],
      "include_colab_link": true
    },
    "kernelspec": {
      "name": "python3",
      "display_name": "Python 3"
    },
    "language_info": {
      "name": "python"
    }
  },
  "cells": [
    {
      "cell_type": "markdown",
      "metadata": {
        "id": "view-in-github",
        "colab_type": "text"
      },
      "source": [
        "<a href=\"https://colab.research.google.com/github/jayakrishnavamsi24/Colab-repositories/blob/main/Copy_of_Numpy_Practice_2.ipynb\" target=\"_parent\"><img src=\"https://colab.research.google.com/assets/colab-badge.svg\" alt=\"Open In Colab\"/></a>"
      ]
    },
    {
      "cell_type": "markdown",
      "source": [
        "Welcome to the NumPy practice exercise! Please follow these instructions carefully to complete your assignment:\n",
        "\n",
        "1. **Read Each Question Carefully**: Each question is designed to test different aspects of your NumPy skills. Make sure to understand what is being asked before you start coding.\n",
        "\n",
        "2. **Write Your Code in the Provided Cells**: For each question, you will find a corresponding code cell where you should write your solution. Do not modify any other part of the notebook.\n",
        "\n",
        "3. **Run Your Code**: After writing your code, run the cell to ensure that your solution works as expected. Check the output and make sure it meets the requirements specified in the question.\n",
        "\n",
        "4. **Complete All Questions**: Make sure you answer all the questions provided. Each question has been included to assess a different skill or concept in NumPy.\n",
        "\n",
        "5. **Download Your Notebook**: Once you have completed all questions and verified that your solutions are correct, download your notebook file (.ipynb). You can do this by selecting `File > Download > Download .ipynb` from the menu.\n",
        "\n",
        "6. **Submit Your Work**: Upload the downloaded `.ipynb` file to the designated learning platform for submission.\n",
        "\n",
        "7. **Check Your Submission**: Ensure that you have submitted the correct file and that it is not corrupted. If there are any issues with the file, you may need to resubmit.\n",
        "\n",
        "Good luck, and happy coding!"
      ],
      "metadata": {
        "id": "o3lXLzMUPXIV"
      }
    },
    {
      "cell_type": "markdown",
      "source": [
        "Q1. Import Numpy as `np`"
      ],
      "metadata": {
        "id": "CpHe82s4eBTb"
      }
    },
    {
      "cell_type": "code",
      "execution_count": 1,
      "metadata": {
        "id": "qnzsP323dx5r"
      },
      "outputs": [],
      "source": [
        "# write your code here\n",
        "import numpy as np"
      ]
    },
    {
      "cell_type": "markdown",
      "source": [
        "Q.2 Create a 5x5 array, with numbers ranging from 1-25 and save it in `matrix` variable.\n",
        "(Use `matrix` variable till question no 10.)"
      ],
      "metadata": {
        "id": "k1C3DajogUjR"
      }
    },
    {
      "cell_type": "code",
      "source": [
        "# write your code here\n",
        "matrix = np.arange(1, 26).reshape((5, 5))\n",
        "matrix"
      ],
      "metadata": {
        "id": "RbzHoLqRgi8Q",
        "colab": {
          "base_uri": "https://localhost:8080/"
        },
        "outputId": "03bbf238-d20d-4cf6-d937-655d580b9753"
      },
      "execution_count": 7,
      "outputs": [
        {
          "output_type": "execute_result",
          "data": {
            "text/plain": [
              "array([[ 1,  2,  3,  4,  5],\n",
              "       [ 6,  7,  8,  9, 10],\n",
              "       [11, 12, 13, 14, 15],\n",
              "       [16, 17, 18, 19, 20],\n",
              "       [21, 22, 23, 24, 25]])"
            ]
          },
          "metadata": {},
          "execution_count": 7
        }
      ]
    },
    {
      "cell_type": "markdown",
      "source": [
        "Q.3 select the subset from `matrix`\n",
        "```python\n",
        "array([12,13,14,15],\n",
        "      [17,18,18,20],\n",
        "      [22,23,24,25])\n",
        "```"
      ],
      "metadata": {
        "id": "gf1j1Axbgjqc"
      }
    },
    {
      "cell_type": "code",
      "source": [
        "# write your code here\n",
        "matrix[2:5, 1:5]"
      ],
      "metadata": {
        "id": "6u9pvMsbhEu9",
        "colab": {
          "base_uri": "https://localhost:8080/"
        },
        "outputId": "01d970f1-9a35-411b-ff8b-72b3d567e9e6"
      },
      "execution_count": 8,
      "outputs": [
        {
          "output_type": "execute_result",
          "data": {
            "text/plain": [
              "array([[12, 13, 14, 15],\n",
              "       [17, 18, 19, 20],\n",
              "       [22, 23, 24, 25]])"
            ]
          },
          "metadata": {},
          "execution_count": 8
        }
      ]
    },
    {
      "cell_type": "markdown",
      "source": [
        "Q.4 Select the value 20 from the `matrix`"
      ],
      "metadata": {
        "id": "pMbeh4-UhGGl"
      }
    },
    {
      "cell_type": "code",
      "source": [
        "# write your code here\n",
        "matrix[3][4]"
      ],
      "metadata": {
        "id": "agxzVWv3hMHm",
        "colab": {
          "base_uri": "https://localhost:8080/"
        },
        "outputId": "86e82ae7-78b5-4a6a-a679-300856913cdc"
      },
      "execution_count": 9,
      "outputs": [
        {
          "output_type": "execute_result",
          "data": {
            "text/plain": [
              "20"
            ]
          },
          "metadata": {},
          "execution_count": 9
        }
      ]
    },
    {
      "cell_type": "markdown",
      "source": [
        "Q.5 Select the below subset.(Use `matrix`)\n",
        "```python\n",
        "array([[2],\n",
        "      [7],\n",
        "      [12]])\n",
        "```\n"
      ],
      "metadata": {
        "id": "BcbS6z8ChM_r"
      }
    },
    {
      "cell_type": "code",
      "source": [
        "# write your code here\n",
        "matrix[0:3, 1:2]"
      ],
      "metadata": {
        "id": "Ut0piiLmhc1F",
        "colab": {
          "base_uri": "https://localhost:8080/"
        },
        "outputId": "64298033-7c1c-4e2f-f915-ff503b3c52f6"
      },
      "execution_count": 11,
      "outputs": [
        {
          "output_type": "execute_result",
          "data": {
            "text/plain": [
              "array([[ 2],\n",
              "       [ 7],\n",
              "       [12]])"
            ]
          },
          "metadata": {},
          "execution_count": 11
        }
      ]
    },
    {
      "cell_type": "markdown",
      "source": [
        "Q.6 Select the below subset. (Use `matrix`)\n",
        "```python\n",
        "array([21,22,23,24,25])\n",
        "```"
      ],
      "metadata": {
        "id": "sdYFbRE9hoDe"
      }
    },
    {
      "cell_type": "code",
      "source": [
        "# write your code here\n",
        "matrix[4]"
      ],
      "metadata": {
        "id": "zfGt6S5Sh1mr",
        "colab": {
          "base_uri": "https://localhost:8080/"
        },
        "outputId": "b8768b7c-bc7b-4e65-d851-29134df794ad"
      },
      "execution_count": 13,
      "outputs": [
        {
          "output_type": "execute_result",
          "data": {
            "text/plain": [
              "array([21, 22, 23, 24, 25])"
            ]
          },
          "metadata": {},
          "execution_count": 13
        }
      ]
    },
    {
      "cell_type": "markdown",
      "source": [
        "Q.7 Select the subset below (Use `matrix`)\n",
        "```python\n",
        "array([[16,17,18,19,20],\n",
        "       [21,22,23,24,25]])\n",
        "```\n",
        "\n"
      ],
      "metadata": {
        "id": "kLtHZ-Zlh2Xn"
      }
    },
    {
      "cell_type": "code",
      "source": [
        "# write your code here\n",
        "matrix[-2:]"
      ],
      "metadata": {
        "id": "L-20oAhtiUG0",
        "colab": {
          "base_uri": "https://localhost:8080/"
        },
        "outputId": "ce7093f3-6c35-418f-8a8e-971e563b9b52"
      },
      "execution_count": 14,
      "outputs": [
        {
          "output_type": "execute_result",
          "data": {
            "text/plain": [
              "array([[16, 17, 18, 19, 20],\n",
              "       [21, 22, 23, 24, 25]])"
            ]
          },
          "metadata": {},
          "execution_count": 14
        }
      ]
    },
    {
      "cell_type": "markdown",
      "source": [
        "Q.8 Get the sum of all the values in `matrix`. (Expected Ans : 325)"
      ],
      "metadata": {
        "id": "s9euxthkiWfE"
      }
    },
    {
      "cell_type": "code",
      "source": [
        "# write your code here\n",
        "np.sum(matrix)"
      ],
      "metadata": {
        "id": "SD1ARsgzihKl",
        "colab": {
          "base_uri": "https://localhost:8080/"
        },
        "outputId": "16e2ed4a-6af1-4e54-ffae-f517228d6f6d"
      },
      "execution_count": 15,
      "outputs": [
        {
          "output_type": "execute_result",
          "data": {
            "text/plain": [
              "325"
            ]
          },
          "metadata": {},
          "execution_count": 15
        }
      ]
    },
    {
      "cell_type": "markdown",
      "source": [
        "Q.9 Get the standard deviation of the values in `matrix`(Expected Ans : 7.2111025)"
      ],
      "metadata": {
        "id": "LsMfKuulih38"
      }
    },
    {
      "cell_type": "code",
      "source": [
        "# write your code here\n",
        "matrix.std()"
      ],
      "metadata": {
        "id": "QWrEDycqivbX",
        "colab": {
          "base_uri": "https://localhost:8080/"
        },
        "outputId": "7a77cdfb-6f7a-444c-92aa-d9bf586ce623"
      },
      "execution_count": 16,
      "outputs": [
        {
          "output_type": "execute_result",
          "data": {
            "text/plain": [
              "7.211102550927978"
            ]
          },
          "metadata": {},
          "execution_count": 16
        }
      ]
    },
    {
      "cell_type": "markdown",
      "source": [
        "Q. 10 Get the sum of all the columns in `matrix`. (Expected Ans: array([55,60,65,70,75])"
      ],
      "metadata": {
        "id": "eUve8iSbiwZ5"
      }
    },
    {
      "cell_type": "code",
      "source": [
        "# write your code here\n",
        "np.sum(matrix, axis=0)"
      ],
      "metadata": {
        "id": "L9woNaJ4jDCp",
        "colab": {
          "base_uri": "https://localhost:8080/"
        },
        "outputId": "966d6658-f209-478f-ce10-41a7fba0f48f"
      },
      "execution_count": 19,
      "outputs": [
        {
          "output_type": "execute_result",
          "data": {
            "text/plain": [
              "array([55, 60, 65, 70, 75])"
            ]
          },
          "metadata": {},
          "execution_count": 19
        }
      ]
    },
    {
      "cell_type": "markdown",
      "source": [
        "Q.11 Reverse a 1D array."
      ],
      "metadata": {
        "id": "lh6rn-DvjFod"
      }
    },
    {
      "cell_type": "code",
      "source": [
        "# write your code here\n",
        "a1 = np.arange(1, 11)\n",
        "a1 = a1[::-1]\n",
        "a1"
      ],
      "metadata": {
        "id": "7cqeALjUjKAI",
        "colab": {
          "base_uri": "https://localhost:8080/"
        },
        "outputId": "c53744b3-a07d-4fca-880f-eb09b3e49807"
      },
      "execution_count": 22,
      "outputs": [
        {
          "output_type": "execute_result",
          "data": {
            "text/plain": [
              "array([10,  9,  8,  7,  6,  5,  4,  3,  2,  1])"
            ]
          },
          "metadata": {},
          "execution_count": 22
        }
      ]
    },
    {
      "cell_type": "markdown",
      "source": [],
      "metadata": {
        "id": "zphpLNF_1qkP"
      }
    },
    {
      "cell_type": "markdown",
      "source": [
        "Q.12 Find indices of non-zero elements from [10,20,0,0,40,0]\n",
        "\n",
        "\n",
        "\n"
      ],
      "metadata": {
        "id": "wkFz7Rp0jLC0"
      }
    },
    {
      "cell_type": "code",
      "source": [
        "# write your code here\n",
        "a2 = [10, 20, 0, 0, 40, 0]\n",
        "a2 = np.nonzero(a2)\n",
        "a2"
      ],
      "metadata": {
        "id": "Iua-Zy77jTHg",
        "colab": {
          "base_uri": "https://localhost:8080/"
        },
        "outputId": "480456ad-759f-42a0-c373-e3d299b03498"
      },
      "execution_count": 31,
      "outputs": [
        {
          "output_type": "execute_result",
          "data": {
            "text/plain": [
              "(array([0, 1, 4]),)"
            ]
          },
          "metadata": {},
          "execution_count": 31
        }
      ]
    },
    {
      "cell_type": "markdown",
      "source": [
        "Q.13 Create a 10x10 array with random values and find the minimum and maximum values."
      ],
      "metadata": {
        "id": "R5QyWa_NjUJW"
      }
    },
    {
      "cell_type": "code",
      "source": [
        "# write your code here\n",
        "rdv_arr = np.random.randint(1, 101, (10, 10))\n",
        "min_val = np.min(rdv_arr)\n",
        "max_val = np.max(rdv_arr)\n",
        "print(\"Random 10x10 array\", rdv_arr)\n",
        "print(\"Minimum Value\", min_val)\n",
        "print(\"Maximum Value\", max_val)"
      ],
      "metadata": {
        "id": "OwSIG27HjfRR",
        "colab": {
          "base_uri": "https://localhost:8080/"
        },
        "outputId": "a3713138-18b4-45b6-b939-8b7ab0bc9c78"
      },
      "execution_count": 46,
      "outputs": [
        {
          "output_type": "stream",
          "name": "stdout",
          "text": [
            "Random 10x10 array [[75 65 92 97 98 43  8 50 63 24]\n",
            " [46 88 79 71 58  6 12  8 38 29]\n",
            " [33 44 30 61 75 60 13 92 46 51]\n",
            " [87 90 88 84 35 81 37 36 51 60]\n",
            " [67 65 46 47 37 95 24 47 99 65]\n",
            " [17 15 19 62 44 60 68 75  3 71]\n",
            " [89 85  8 35 88 63 22 24 43 26]\n",
            " [75 55 50 49 83 22 19 30 95 69]\n",
            " [66 82 45 84 36 89 31 76 44 46]\n",
            " [42 42 68 47 29 56 24 96 74 43]]\n",
            "Minimum Value 3\n",
            "Maximum Value 99\n"
          ]
        }
      ]
    },
    {
      "cell_type": "markdown",
      "source": [
        "Q.14 Create a 10x10 array with 1 on the border and 0 inside."
      ],
      "metadata": {
        "id": "Co8OTEJ6jf6e"
      }
    },
    {
      "cell_type": "code",
      "source": [
        "# write your code here\n",
        "ones_arr = np.ones((10, 10), dtype=int)\n",
        "ones_arr[1:-1, 1:-1] = 0\n",
        "ones_arr"
      ],
      "metadata": {
        "id": "Wzr5gLOJjvku",
        "colab": {
          "base_uri": "https://localhost:8080/"
        },
        "outputId": "020ebef0-38e5-41ed-d092-723ac1ae1792"
      },
      "execution_count": 48,
      "outputs": [
        {
          "output_type": "execute_result",
          "data": {
            "text/plain": [
              "array([[1, 1, 1, 1, 1, 1, 1, 1, 1, 1],\n",
              "       [1, 0, 0, 0, 0, 0, 0, 0, 0, 1],\n",
              "       [1, 0, 0, 0, 0, 0, 0, 0, 0, 1],\n",
              "       [1, 0, 0, 0, 0, 0, 0, 0, 0, 1],\n",
              "       [1, 0, 0, 0, 0, 0, 0, 0, 0, 1],\n",
              "       [1, 0, 0, 0, 0, 0, 0, 0, 0, 1],\n",
              "       [1, 0, 0, 0, 0, 0, 0, 0, 0, 1],\n",
              "       [1, 0, 0, 0, 0, 0, 0, 0, 0, 1],\n",
              "       [1, 0, 0, 0, 0, 0, 0, 0, 0, 1],\n",
              "       [1, 1, 1, 1, 1, 1, 1, 1, 1, 1]])"
            ]
          },
          "metadata": {},
          "execution_count": 48
        }
      ]
    },
    {
      "cell_type": "markdown",
      "source": [
        "Q. 15 Create 8x8 array and fill it with the cheakerboard pattern.\n"
      ],
      "metadata": {
        "id": "3JLtpLvmjwyZ"
      }
    },
    {
      "cell_type": "code",
      "source": [
        "# write your code here\n",
        "ones_arr = np.ones((8, 8), dtype=int)\n",
        "ones_arr[0:9:2, 1:9:2] = 0\n",
        "ones_arr[1:9:2, 0:9:2] = 0\n",
        "ones_arr"
      ],
      "metadata": {
        "id": "u4gEfzjbj7Ur",
        "colab": {
          "base_uri": "https://localhost:8080/"
        },
        "outputId": "c3df8d47-5484-4171-ff1d-96302f32bd8a"
      },
      "execution_count": 52,
      "outputs": [
        {
          "output_type": "execute_result",
          "data": {
            "text/plain": [
              "array([[1, 0, 1, 0, 1, 0, 1, 0],\n",
              "       [0, 1, 0, 1, 0, 1, 0, 1],\n",
              "       [1, 0, 1, 0, 1, 0, 1, 0],\n",
              "       [0, 1, 0, 1, 0, 1, 0, 1],\n",
              "       [1, 0, 1, 0, 1, 0, 1, 0],\n",
              "       [0, 1, 0, 1, 0, 1, 0, 1],\n",
              "       [1, 0, 1, 0, 1, 0, 1, 0],\n",
              "       [0, 1, 0, 1, 0, 1, 0, 1]])"
            ]
          },
          "metadata": {},
          "execution_count": 52
        }
      ]
    },
    {
      "cell_type": "markdown",
      "source": [
        "Q.16 Create a numpy array of size 10 with values ranging from 0 to 1, both excluded."
      ],
      "metadata": {
        "id": "1PjyOeDAj8KP"
      }
    },
    {
      "cell_type": "code",
      "source": [
        "# write your code here\n",
        "np.linspace(0, 1, 12)[1:-1]"
      ],
      "metadata": {
        "id": "pQqh-pfYkTJ2",
        "colab": {
          "base_uri": "https://localhost:8080/"
        },
        "outputId": "ddc370f7-c6c8-404a-be8e-de6fbf9803c0"
      },
      "execution_count": 54,
      "outputs": [
        {
          "output_type": "execute_result",
          "data": {
            "text/plain": [
              "array([0.09090909, 0.18181818, 0.27272727, 0.36363636, 0.45454545,\n",
              "       0.54545455, 0.63636364, 0.72727273, 0.81818182, 0.90909091])"
            ]
          },
          "metadata": {},
          "execution_count": 54
        }
      ]
    },
    {
      "cell_type": "markdown",
      "source": [
        "Q.17 Create a random array of size 10 and sort it."
      ],
      "metadata": {
        "id": "mEeRFj_LkTny"
      }
    },
    {
      "cell_type": "code",
      "source": [
        "# write your code here\n",
        "a1 = np.random.rand(10)\n",
        "a1.sort()\n",
        "a1"
      ],
      "metadata": {
        "id": "PFCXlqJ1kbVp",
        "colab": {
          "base_uri": "https://localhost:8080/"
        },
        "outputId": "3eeca354-bf46-4ecb-c4c8-5bd1169f6099"
      },
      "execution_count": 62,
      "outputs": [
        {
          "output_type": "execute_result",
          "data": {
            "text/plain": [
              "array([0.06298494, 0.21517653, 0.38799357, 0.56687193, 0.72833533,\n",
              "       0.75043389, 0.81511079, 0.81786795, 0.86228772, 0.97820586])"
            ]
          },
          "metadata": {},
          "execution_count": 62
        }
      ]
    },
    {
      "cell_type": "markdown",
      "source": [
        "Q.18 Create a random array of size 10 and replace the maximum value with 0."
      ],
      "metadata": {
        "id": "To1wobp2kb7C"
      }
    },
    {
      "cell_type": "code",
      "source": [
        "# write your code here\n",
        "a2 = np.random.rand(10)\n",
        "a2[np.argmax(a2)] = 0\n",
        "a2"
      ],
      "metadata": {
        "id": "02ckfVLvkhSw",
        "colab": {
          "base_uri": "https://localhost:8080/"
        },
        "outputId": "4f76a198-c9cb-4302-821d-b105057dac67"
      },
      "execution_count": 65,
      "outputs": [
        {
          "output_type": "execute_result",
          "data": {
            "text/plain": [
              "array([0.37738054, 0.06294128, 0.29536423, 0.74485052, 0.        ,\n",
              "       0.79983245, 0.76854833, 0.13724993, 0.64434603, 0.11687345])"
            ]
          },
          "metadata": {},
          "execution_count": 65
        }
      ]
    },
    {
      "cell_type": "markdown",
      "source": [
        "Q.19 Create a random array of size 10 and replace the minimum value with 10."
      ],
      "metadata": {
        "id": "dxCgo46pQuI_"
      }
    },
    {
      "cell_type": "code",
      "source": [
        "# write your code here\n",
        "a3 = np.random.rand(10)\n",
        "a3[np.argmin(a3)] = 10\n",
        "a3"
      ],
      "metadata": {
        "id": "iNP4L6uaQ06W",
        "colab": {
          "base_uri": "https://localhost:8080/"
        },
        "outputId": "c88b1870-7d19-42f7-8a01-ca5111e6b257"
      },
      "execution_count": 66,
      "outputs": [
        {
          "output_type": "execute_result",
          "data": {
            "text/plain": [
              "array([ 0.79918409,  0.74898635,  0.30671918,  0.1288117 ,  0.69231423,\n",
              "        0.31784732,  0.40326437,  0.62616618,  0.24352836, 10.        ])"
            ]
          },
          "metadata": {},
          "execution_count": 66
        }
      ]
    },
    {
      "cell_type": "markdown",
      "source": [
        "Q.20 Create an array of size 5x5 and swap two rows."
      ],
      "metadata": {
        "id": "-RHfc3ymkh_C"
      }
    },
    {
      "cell_type": "code",
      "source": [
        " # write your code here\n",
        " a4 = np.arange(1, 26).reshape((5, 5))\n",
        " temp = np.copy(a4[1])\n",
        " a4[1] = a4[0]\n",
        " a4[0] = temp\n",
        " a4"
      ],
      "metadata": {
        "id": "OvK420zakymy",
        "colab": {
          "base_uri": "https://localhost:8080/"
        },
        "outputId": "bb6b7faa-997e-4954-e452-92765001c037"
      },
      "execution_count": 71,
      "outputs": [
        {
          "output_type": "execute_result",
          "data": {
            "text/plain": [
              "array([[ 6,  7,  8,  9, 10],\n",
              "       [ 1,  2,  3,  4,  5],\n",
              "       [11, 12, 13, 14, 15],\n",
              "       [16, 17, 18, 19, 20],\n",
              "       [21, 22, 23, 24, 25]])"
            ]
          },
          "metadata": {},
          "execution_count": 71
        }
      ]
    },
    {
      "cell_type": "markdown",
      "source": [
        "# End!"
      ],
      "metadata": {
        "id": "3RtCSNU_nZGs"
      }
    }
  ]
}