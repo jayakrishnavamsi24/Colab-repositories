{
  "nbformat": 4,
  "nbformat_minor": 0,
  "metadata": {
    "colab": {
      "provenance": []
    },
    "kernelspec": {
      "name": "python3",
      "display_name": "Python 3"
    },
    "language_info": {
      "name": "python"
    }
  },
  "cells": [
    {
      "cell_type": "markdown",
      "source": [
        "Welcome to the NumPy practice exercise! Please follow these instructions carefully to complete your assignment:\n",
        "\n",
        "1. **Read Each Question Carefully**: Each question is designed to test different aspects of your NumPy skills. Make sure to understand what is being asked before you start coding.\n",
        "\n",
        "2. **Write Your Code in the Provided Cells**: For each question, you will find a corresponding code cell where you should write your solution. Do not modify any other part of the notebook.\n",
        "\n",
        "3. **Run Your Code**: After writing your code, run the cell to ensure that your solution works as expected. Check the output and make sure it meets the requirements specified in the question.\n",
        "\n",
        "4. **Complete All Questions**: Make sure you answer all the questions provided. Each question has been included to assess a different skill or concept in NumPy.\n",
        "\n",
        "5. **Download Your Notebook**: Once you have completed all questions and verified that your solutions are correct, download your notebook file (.ipynb). You can do this by selecting `File > Download > Download .ipynb` from the menu.\n",
        "\n",
        "6. **Submit Your Work**: Upload the downloaded `.ipynb` file to the designated learning platform for submission.\n",
        "\n",
        "7. **Check Your Submission**: Ensure that you have submitted the correct file and that it is not corrupted. If there are any issues with the file, you may need to resubmit.\n",
        "\n",
        "Good luck, and happy coding!"
      ],
      "metadata": {
        "id": "Q6iHeLrHLG3D"
      }
    },
    {
      "cell_type": "markdown",
      "source": [
        "Q1. Import Numpy as `np`"
      ],
      "metadata": {
        "id": "CpHe82s4eBTb"
      }
    },
    {
      "cell_type": "markdown",
      "source": [],
      "metadata": {
        "id": "2Kl38lArbaxz"
      }
    },
    {
      "cell_type": "code",
      "execution_count": 1,
      "metadata": {
        "id": "qnzsP323dx5r"
      },
      "outputs": [],
      "source": [
        "# write your code here\n",
        "import numpy as np\n"
      ]
    },
    {
      "cell_type": "markdown",
      "source": [
        "Q2. Create an array of 10 zeros."
      ],
      "metadata": {
        "id": "-yNU8CmMeHhv"
      }
    },
    {
      "cell_type": "code",
      "source": [
        "# write your code here\n",
        "a1 = np.zeros(10)\n",
        "a1\n"
      ],
      "metadata": {
        "id": "myhMyzuKeLYR",
        "outputId": "ce196bb8-2afb-4d85-937e-2a6ca0c6d339",
        "colab": {
          "base_uri": "https://localhost:8080/"
        }
      },
      "execution_count": 2,
      "outputs": [
        {
          "output_type": "execute_result",
          "data": {
            "text/plain": [
              "array([0., 0., 0., 0., 0., 0., 0., 0., 0., 0.])"
            ]
          },
          "metadata": {},
          "execution_count": 2
        }
      ]
    },
    {
      "cell_type": "markdown",
      "source": [
        "Q3. Create an array of 10 ones and the fifth value which is 0."
      ],
      "metadata": {
        "id": "KEQS_mySeMXg"
      }
    },
    {
      "cell_type": "code",
      "source": [
        "# write your code here\n",
        "a2 = np.ones(10)\n",
        "a2[4] = 0\n",
        "a2\n"
      ],
      "metadata": {
        "id": "PSsUmYPyeL8q",
        "outputId": "45a97f36-9ebf-4cdf-be8e-444b25fabd6b",
        "colab": {
          "base_uri": "https://localhost:8080/"
        }
      },
      "execution_count": 3,
      "outputs": [
        {
          "output_type": "execute_result",
          "data": {
            "text/plain": [
              "array([1., 1., 1., 1., 0., 1., 1., 1., 1., 1.])"
            ]
          },
          "metadata": {},
          "execution_count": 3
        }
      ]
    },
    {
      "cell_type": "markdown",
      "source": [
        "Q.4 Create an array of 10 fives"
      ],
      "metadata": {
        "id": "-v4uQMqpeUm1"
      }
    },
    {
      "cell_type": "code",
      "source": [
        "# write your code here\n",
        "a3 = np.full(10, fill_value=5)\n",
        "a3"
      ],
      "metadata": {
        "id": "gvDcI7L1eZ0F",
        "outputId": "b5448d51-9bf1-470e-85d0-56fc561d7852",
        "colab": {
          "base_uri": "https://localhost:8080/"
        }
      },
      "execution_count": 4,
      "outputs": [
        {
          "output_type": "execute_result",
          "data": {
            "text/plain": [
              "array([5, 5, 5, 5, 5, 5, 5, 5, 5, 5])"
            ]
          },
          "metadata": {},
          "execution_count": 4
        }
      ]
    },
    {
      "cell_type": "markdown",
      "source": [
        "Q.5 Create an array of the integers from 10 to 50."
      ],
      "metadata": {
        "id": "94_6fAX9eajU"
      }
    },
    {
      "cell_type": "code",
      "source": [
        "# write your code here\n",
        "a4 = np.arange(10, 51)\n",
        "a4"
      ],
      "metadata": {
        "id": "Yy2cB0CPeiCW",
        "outputId": "5d969ef5-a864-44f5-9947-db200a449b88",
        "colab": {
          "base_uri": "https://localhost:8080/"
        }
      },
      "execution_count": 5,
      "outputs": [
        {
          "output_type": "execute_result",
          "data": {
            "text/plain": [
              "array([10, 11, 12, 13, 14, 15, 16, 17, 18, 19, 20, 21, 22, 23, 24, 25, 26,\n",
              "       27, 28, 29, 30, 31, 32, 33, 34, 35, 36, 37, 38, 39, 40, 41, 42, 43,\n",
              "       44, 45, 46, 47, 48, 49, 50])"
            ]
          },
          "metadata": {},
          "execution_count": 5
        }
      ]
    },
    {
      "cell_type": "markdown",
      "source": [
        "Q.6 Create an array of all even integers from 10 to 50."
      ],
      "metadata": {
        "id": "S-eEwBD6en9H"
      }
    },
    {
      "cell_type": "code",
      "source": [
        "# write your code here\n",
        "a5 = np.arange(10, 51, 2)\n",
        "a5"
      ],
      "metadata": {
        "id": "g761bs1NexeN",
        "outputId": "5623ca96-12bd-4cc3-9f59-2108bc147ac4",
        "colab": {
          "base_uri": "https://localhost:8080/"
        }
      },
      "execution_count": 6,
      "outputs": [
        {
          "output_type": "execute_result",
          "data": {
            "text/plain": [
              "array([10, 12, 14, 16, 18, 20, 22, 24, 26, 28, 30, 32, 34, 36, 38, 40, 42,\n",
              "       44, 46, 48, 50])"
            ]
          },
          "metadata": {},
          "execution_count": 6
        }
      ]
    },
    {
      "cell_type": "markdown",
      "source": [
        "Q.7 Create a 3x3 matrix with values ranging from 0 to 8.\n",
        "\n",
        "\n"
      ],
      "metadata": {
        "id": "Y8BSfIPGeyO9"
      }
    },
    {
      "cell_type": "code",
      "source": [
        "# write your code here\n",
        "a6 = np.arange(0, 9)\n",
        "a6 = a6.reshape((3,3))\n",
        "a6"
      ],
      "metadata": {
        "id": "AnKpTTxWe5Xu",
        "outputId": "1cc1ddd3-dbe7-4f7b-bc80-3af323e3348e",
        "colab": {
          "base_uri": "https://localhost:8080/"
        }
      },
      "execution_count": 9,
      "outputs": [
        {
          "output_type": "execute_result",
          "data": {
            "text/plain": [
              "array([[0, 1, 2],\n",
              "       [3, 4, 5],\n",
              "       [6, 7, 8]])"
            ]
          },
          "metadata": {},
          "execution_count": 9
        }
      ]
    },
    {
      "cell_type": "markdown",
      "source": [
        "Q.8 Create a 3x3 identity matrix."
      ],
      "metadata": {
        "id": "ecPUiEide52o"
      }
    },
    {
      "cell_type": "code",
      "source": [
        "# write your code here\n",
        "a7 = np.eye(3)\n",
        "a7"
      ],
      "metadata": {
        "id": "rprdXOBwe_Ja",
        "outputId": "546d05b9-a85e-43ab-bbd9-e22f26ad9bed",
        "colab": {
          "base_uri": "https://localhost:8080/"
        }
      },
      "execution_count": 12,
      "outputs": [
        {
          "output_type": "execute_result",
          "data": {
            "text/plain": [
              "array([[1., 0., 0.],\n",
              "       [0., 1., 0.],\n",
              "       [0., 0., 1.]])"
            ]
          },
          "metadata": {},
          "execution_count": 12
        }
      ]
    },
    {
      "cell_type": "markdown",
      "source": [
        "Q.9 Use numpy to generate a random number between 0 to 1."
      ],
      "metadata": {
        "id": "bi_B6K6ifC_R"
      }
    },
    {
      "cell_type": "code",
      "source": [
        "# write your code here\n",
        "a8 = np.random.rand(1)\n",
        "a8"
      ],
      "metadata": {
        "id": "rfEvKpuCfOCv",
        "outputId": "5ea939ca-0216-4a0a-cf40-cdb88db6b8e6",
        "colab": {
          "base_uri": "https://localhost:8080/"
        }
      },
      "execution_count": 18,
      "outputs": [
        {
          "output_type": "execute_result",
          "data": {
            "text/plain": [
              "array([0.38972162])"
            ]
          },
          "metadata": {},
          "execution_count": 18
        }
      ]
    },
    {
      "cell_type": "markdown",
      "source": [
        "Q.10 Use numpy array to generate an array of 25 numbers."
      ],
      "metadata": {
        "id": "BqO0MsIIfOyf"
      }
    },
    {
      "cell_type": "code",
      "source": [
        "# write your code here\n",
        "a9 = np.random.rand(25)\n",
        "a9"
      ],
      "metadata": {
        "id": "ld8mt2IwfYDE",
        "outputId": "4177b05a-b19d-4eb0-987a-f7cdfa4e02e4",
        "colab": {
          "base_uri": "https://localhost:8080/"
        }
      },
      "execution_count": 19,
      "outputs": [
        {
          "output_type": "execute_result",
          "data": {
            "text/plain": [
              "array([0.52157531, 0.81444928, 0.67824878, 0.7364375 , 0.09454771,\n",
              "       0.98336712, 0.10826184, 0.71396487, 0.20866692, 0.36151196,\n",
              "       0.00198325, 0.76190143, 0.85155761, 0.24654285, 0.52855524,\n",
              "       0.40463414, 0.18210357, 0.02053195, 0.11193876, 0.267083  ,\n",
              "       0.01047554, 0.59245344, 0.24004421, 0.93238983, 0.00711171])"
            ]
          },
          "metadata": {},
          "execution_count": 19
        }
      ]
    },
    {
      "cell_type": "markdown",
      "source": [
        "Q.11 create the following matrix\n",
        "\n",
        "```python\n",
        "array([0.01, 0.02, 0.03, 0.04, 0.05, 0.06, 0.07, 0.08, 0.09, 0.1 , 0.11,\n",
        "       0.12, 0.13, 0.14, 0.15, 0.16, 0.17, 0.18, 0.19, 0.2 , 0.21, 0.22,\n",
        "       0.23, 0.24, 0.25, 0.26, 0.27, 0.28, 0.29, 0.3 , 0.31, 0.32, 0.33,\n",
        "       0.34, 0.35, 0.36, 0.37, 0.38, 0.39, 0.4 , 0.41, 0.42, 0.43, 0.44,\n",
        "       0.45, 0.46, 0.47, 0.48, 0.49, 0.5 , 0.51, 0.52, 0.53, 0.54, 0.55,\n",
        "       0.56, 0.57, 0.58, 0.59, 0.6 , 0.61, 0.62, 0.63, 0.64, 0.65, 0.66,\n",
        "       0.67, 0.68, 0.69, 0.7 , 0.71, 0.72, 0.73, 0.74, 0.75, 0.76, 0.77,\n",
        "       0.78, 0.79, 0.8 , 0.81, 0.82, 0.83, 0.84, 0.85, 0.86, 0.87, 0.88,\n",
        "       0.89, 0.9 , 0.91, 0.92, 0.93, 0.94, 0.95, 0.96, 0.97, 0.98, 0.99,\n",
        "       1.  ])\n",
        "\n",
        "  ```"
      ],
      "metadata": {
        "id": "MQ2tuV9TfYjK"
      }
    },
    {
      "cell_type": "code",
      "source": [
        "# write your code here\n",
        "a10 = np.arange(0.01, 1.01, 0.01)\n",
        "a10"
      ],
      "metadata": {
        "id": "R-5pz2pSf5t3",
        "outputId": "4ac29c33-9eab-4ea6-9548-34794cd8fda1",
        "colab": {
          "base_uri": "https://localhost:8080/"
        }
      },
      "execution_count": 21,
      "outputs": [
        {
          "output_type": "execute_result",
          "data": {
            "text/plain": [
              "array([0.01, 0.02, 0.03, 0.04, 0.05, 0.06, 0.07, 0.08, 0.09, 0.1 , 0.11,\n",
              "       0.12, 0.13, 0.14, 0.15, 0.16, 0.17, 0.18, 0.19, 0.2 , 0.21, 0.22,\n",
              "       0.23, 0.24, 0.25, 0.26, 0.27, 0.28, 0.29, 0.3 , 0.31, 0.32, 0.33,\n",
              "       0.34, 0.35, 0.36, 0.37, 0.38, 0.39, 0.4 , 0.41, 0.42, 0.43, 0.44,\n",
              "       0.45, 0.46, 0.47, 0.48, 0.49, 0.5 , 0.51, 0.52, 0.53, 0.54, 0.55,\n",
              "       0.56, 0.57, 0.58, 0.59, 0.6 , 0.61, 0.62, 0.63, 0.64, 0.65, 0.66,\n",
              "       0.67, 0.68, 0.69, 0.7 , 0.71, 0.72, 0.73, 0.74, 0.75, 0.76, 0.77,\n",
              "       0.78, 0.79, 0.8 , 0.81, 0.82, 0.83, 0.84, 0.85, 0.86, 0.87, 0.88,\n",
              "       0.89, 0.9 , 0.91, 0.92, 0.93, 0.94, 0.95, 0.96, 0.97, 0.98, 0.99,\n",
              "       1.  ])"
            ]
          },
          "metadata": {},
          "execution_count": 21
        }
      ]
    },
    {
      "cell_type": "markdown",
      "source": [
        "Q.12 Create an array of 20 linearly spaced points between 0 and 1.\n",
        "\n",
        "1.   List item\n",
        "2.   List item\n",
        "\n"
      ],
      "metadata": {
        "id": "kwRSHCD-gIqN"
      }
    },
    {
      "cell_type": "code",
      "source": [
        "# write your code here\n",
        "a11 = np.linspace(0, 1, 20)\n",
        "a11"
      ],
      "metadata": {
        "id": "w2Be8-cdgUDb",
        "outputId": "82b3b6c7-1fe5-422e-c4a2-34266940c1d8",
        "colab": {
          "base_uri": "https://localhost:8080/"
        }
      },
      "execution_count": 22,
      "outputs": [
        {
          "output_type": "execute_result",
          "data": {
            "text/plain": [
              "array([0.        , 0.05263158, 0.10526316, 0.15789474, 0.21052632,\n",
              "       0.26315789, 0.31578947, 0.36842105, 0.42105263, 0.47368421,\n",
              "       0.52631579, 0.57894737, 0.63157895, 0.68421053, 0.73684211,\n",
              "       0.78947368, 0.84210526, 0.89473684, 0.94736842, 1.        ])"
            ]
          },
          "metadata": {},
          "execution_count": 22
        }
      ]
    },
    {
      "cell_type": "markdown",
      "source": [
        "# End!"
      ],
      "metadata": {
        "id": "3RtCSNU_nZGs"
      }
    }
  ]
}